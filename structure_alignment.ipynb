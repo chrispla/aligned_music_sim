{
 "metadata": {
  "language_info": {
   "codemirror_mode": {
    "name": "ipython",
    "version": 3
   },
   "file_extension": ".py",
   "mimetype": "text/x-python",
   "name": "python",
   "nbconvert_exporter": "python",
   "pygments_lexer": "ipython3",
   "version": 3
  },
  "orig_nbformat": 2
 },
 "nbformat": 4,
 "nbformat_minor": 2,
 "cells": [
  {
   "source": [
    "# Compare aligned audio segments\n",
    "Compare music similarity between similar structural segments by hierarchically decomposing structure and finding segment alignment\n",
    "\n"
   ],
   "cell_type": "markdown",
   "metadata": {}
  },
  {
   "source": [
    "## > Library importing"
   ],
   "cell_type": "markdown",
   "metadata": {}
  },
  {
   "cell_type": "code",
   "execution_count": null,
   "metadata": {},
   "outputs": [],
   "source": [
    "#Computation\n",
    "import numpy as np\n",
    "import scipy\n",
    "from scipy.interpolate import interp2d\n",
    "import matplotlib.pyplot as plt\n",
    "import cv2\n",
    "\n",
    "#Data Processing\n",
    "import sklearn.cluster\n",
    "\n",
    "#Audio\n",
    "import librosa\n",
    "from librosa import display\n",
    "\n",
    "#System\n",
    "import glob\n",
    "import os\n",
    "import sys\n",
    "\n",
    "#Pickling\n",
    "import dill"
   ]
  },
  {
   "source": [
    "## > Loading audio"
   ],
   "cell_type": "markdown",
   "metadata": {}
  },
  {
   "cell_type": "code",
   "execution_count": null,
   "metadata": {},
   "outputs": [],
   "source": [
    "#Choose directory containing audiofiles\n",
    "directory = 'test_dataset'"
   ]
  },
  {
   "cell_type": "code",
   "execution_count": null,
   "metadata": {},
   "outputs": [],
   "source": [
    "#Read all paths in specified directory\n",
    "all_filepaths = []\n",
    "all_names= []\n",
    "for root, dirs, files in os.walk(directory):\n",
    "        for name in files:\n",
    "            if (('.wav' in name) or ('.aif' in name) or ('.mp3' in name)):\n",
    "                filepath = os.path.join(root, name)\n",
    "                all_filepaths.append(filepath)\n",
    "                all_names.append(name[:-4])\n",
    "\n",
    "#Load all audiofiles and store in array\n",
    "all_audio = []\n",
    "file_no = len(all_filepaths)\n",
    "for f in range(file_no):\n",
    "    y, sr = librosa.load(all_filepaths[f], sr=22050, mono=True)\n",
    "    all_audio.append((y, sr))\n",
    "    sys.stdout.write(\"\\rLoaded %i/%s pieces.\" % ((f+1), str(file_no)))\n",
    "    sys.stdout.flush()"
   ]
  },
  {
   "source": [
    "## > Compute Laplacian"
   ],
   "cell_type": "markdown",
   "metadata": {}
  },
  {
   "cell_type": "code",
   "execution_count": null,
   "metadata": {},
   "outputs": [],
   "source": [
    "BINS_PER_OCTAVE = 12 * 3\n",
    "N_OCTAVES = 7\n",
    "all_A = []\n",
    "\n",
    "for i in range(len(all_dirs)):\n",
    "    y, sr = librosa.load(all_dirs[i])\n",
    "    #print('Loaded ' + str(all_dirs[i]))\n",
    "    C = librosa.amplitude_to_db(np.abs(librosa.cqt(y=y, sr=sr,\n",
    "                                        bins_per_octave=BINS_PER_OCTAVE,\n",
    "                                        n_bins=N_OCTAVES * BINS_PER_OCTAVE)),\n",
    "                            ref=np.max)\n",
    "    #print('Spectrogram of ' + str(all_dirs[i]))\n",
    "    tempo, beats = librosa.beat.beat_track(y=y, sr=sr, trim=False)\n",
    "    #print('Beat tracking ' + str(all_dirs[i]))\n",
    "    Csync = librosa.util.sync(C, beats, aggregate=np.median)\n",
    "    #print('Syncing ' + str(all_dirs[i]))\n",
    "    Cstack = librosa.feature.stack_memory(Csync, 4)\n",
    "    #print('Stack memory ' + str(all_dirs[i]))\n",
    "    \n",
    "    R = librosa.segment.recurrence_matrix(Cstack, width=3, mode='affinity',\n",
    "                                      sym=True)\n",
    "    #print('Recurrence matrix ' + str(all_dirs[i]))\n",
    "    df = librosa.segment.timelag_filter(scipy.ndimage.median_filter)\n",
    "    Rf = df(R, size=(1, 7))\n",
    "    #print('Timelag filter ' + str(all_dirs[i]))\n",
    "    Rf = librosa.segment.path_enhance(Rf, 15)\n",
    "    #print('Path enhance ' + str(all_dirs[i]))\n",
    "    \n",
    "    mfcc = librosa.feature.mfcc(y=y, sr=sr)\n",
    "    Msync = librosa.util.sync(mfcc, beats)\n",
    "\n",
    "    path_distance = np.sum(np.diff(Msync, axis=1)**2, axis=0)\n",
    "    sigma = np.median(path_distance)\n",
    "    path_sim = np.exp(-path_distance / sigma)\n",
    "\n",
    "    R_path = np.diag(path_sim, k=1) + np.diag(path_sim, k=-1)\n",
    "    #print('Sequence matrix ' + str(all_dirs[i]))\n",
    "    deg_path = np.sum(R_path, axis=1)\n",
    "    deg_rec = np.sum(Rf, axis=1)\n",
    "\n",
    "    print(deg_path.shape)\n",
    "    print(deg_rec.shape)\n",
    "    mu = deg_path.dot(deg_path + deg_rec) / np.sum((deg_path + deg_rec)**2)\n",
    "\n",
    "    A = mu * Rf + (1 - mu) * R_path\n",
    "    #print('Balance combination ' + str(all_dirs[i]))\n",
    "    \n",
    "    L = scipy.sparse.csgraph.laplacian(A, normed=True)\n",
    "    \n",
    "    print('Completed ' + str(all_dirs[i]))\n",
    "    \n",
    "print(\"Completed\")"
   ]
  },
  {
   "source": [
    "## > Compute Laplacian approximations"
   ],
   "cell_type": "markdown",
   "metadata": {}
  },
  {
   "source": [
    "## > Spectral Clustering"
   ],
   "cell_type": "markdown",
   "metadata": {}
  }
 ]
}